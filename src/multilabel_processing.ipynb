{
 "cells": [
  {
   "cell_type": "code",
   "execution_count": null,
   "metadata": {},
   "outputs": [],
   "source": [
    "import numpy as np\n",
    "from PIL import Image\n",
    "import pandas as pd\n",
    "import matplotlib.pyplot as plt"
   ]
  },
  {
   "cell_type": "code",
   "execution_count": null,
   "metadata": {},
   "outputs": [],
   "source": [
    "df = pd.read_csv(\"../data/labels.csv\")\n",
    "df = df[:10000]\n",
    "df[\"label\"] = df[\"label\"].apply(lambda x: eval(x))"
   ]
  },
  {
   "cell_type": "code",
   "execution_count": null,
   "metadata": {},
   "outputs": [],
   "source": [
    "Y = [i for i in df[\"label\"]]\n",
    "Y = np.array(Y)\n",
    "index = 0\n",
    "for i in Y:\n",
    "    print(i)\n",
    "    if index == 100:\n",
    "        break\n",
    "    index += 1"
   ]
  },
  {
   "cell_type": "code",
   "execution_count": null,
   "metadata": {},
   "outputs": [],
   "source": [
    "def open_img(path):\n",
    "    raw = Image.open(path)\n",
    "    return np.array(raw)"
   ]
  },
  {
   "cell_type": "code",
   "execution_count": null,
   "metadata": {},
   "outputs": [],
   "source": [
    "def showimage(img):\n",
    "    plt.imshow(img)\n",
    "    plt.show()"
   ]
  },
  {
   "cell_type": "code",
   "execution_count": null,
   "metadata": {},
   "outputs": [],
   "source": [
    "X = np.zeros((0, 100, 100, 3), dtype=np.uint8)\n",
    "for i in range(10000):\n",
    "    X = np.concatenate((X, [open_img(\"../data/images/%d.jpeg\" % i)]))"
   ]
  },
  {
   "cell_type": "code",
   "execution_count": null,
   "metadata": {},
   "outputs": [],
   "source": [
    "from sklearn.model_selection import train_test_split\n",
    "import tensorflow as tf\n",
    "from tensorflow.keras import layers # type: ignore"
   ]
  },
  {
   "cell_type": "code",
   "execution_count": null,
   "metadata": {},
   "outputs": [],
   "source": [
    "np.save(\"../X.npy\", X)\n",
    "np.save(\"../Y.npy\", Y)"
   ]
  },
  {
   "cell_type": "code",
   "execution_count": null,
   "metadata": {},
   "outputs": [],
   "source": [
    "xtrain, xtest, ytrain, ytest = train_test_split(X, Y, test_size=0.3, random_state=42069)"
   ]
  },
  {
   "cell_type": "code",
   "execution_count": null,
   "metadata": {},
   "outputs": [],
   "source": [
    "def compile(model, epoch):\n",
    "  # Compilation using adam optimization algorithm\n",
    "  model.compile(\n",
    "    optimizer=\"adam\",\n",
    "    loss=tf.keras.losses.BinaryCrossentropy(from_logits=False),\n",
    "    metrics=[\"accuracy\"]\n",
    "  ) \n",
    "  history = model.fit(\n",
    "    xtrain,\n",
    "    ytrain,\n",
    "    epochs=epoch,\n",
    "    validation_data=(xtest, ytest)\n",
    "  )\n",
    "  return model, history\n",
    "\n",
    "def setfigure():\n",
    "  plt.xlabel('Epoch')\n",
    "  plt.ylabel('Accuracy')\n",
    "  plt.ylim([0, 1])\n",
    "  plt.legend(loc='lower right')\n",
    "  plt.show()\n",
    "\n",
    "def evaluate(history):\n",
    "  plt.plot(history.history['accuracy'], label='accuracy')\n",
    "  plt.plot(history.history['val_accuracy'], label = 'val_accuracy')\n",
    "  setfigure()"
   ]
  },
  {
   "cell_type": "code",
   "execution_count": null,
   "metadata": {},
   "outputs": [],
   "source": [
    "model = tf.keras.models.Sequential([\n",
    "    layers.Conv2D(16, (3, 3), activation='relu', input_shape=(100, 100, 3)),\n",
    "    layers.Conv2D(32, (3, 3), activation='relu'),\n",
    "    layers.Conv2D(64, (3, 3), activation='relu'),\n",
    "    layers.MaxPooling2D((2, 2)),\n",
    "    layers.Conv2D(64, (3, 3), activation='relu'),\n",
    "    layers.Conv2D(128, (3, 3), activation='relu'),\n",
    "    layers.MaxPooling2D((2, 2)),\n",
    "    layers.Conv2D(128, (3, 3), activation='relu'),\n",
    "    layers.Conv2D(256, (3, 3), activation='relu'),\n",
    "    # layers.GlobalAveragePooling2D(),\n",
    "    tf.keras.layers.Flatten(),\n",
    "    # tf.keras.layers.Dropout(rate=0.1),\n",
    "    tf.keras.layers.Dense(11, activation='sigmoid')\n",
    "])\n",
    "model, historytest = compile(model, 10)\n",
    "evaluate(historytest)"
   ]
  },
  {
   "cell_type": "code",
   "execution_count": null,
   "metadata": {},
   "outputs": [],
   "source": [
    "model = tf.keras.models.Sequential([\n",
    "    layers.Conv2D(16, (3, 3), activation='relu', input_shape=(100, 100, 3)),\n",
    "    layers.Conv2D(32, (3, 3), activation='relu'),\n",
    "    layers.Conv2D(64, (3, 3), activation='relu'),\n",
    "    layers.MaxPooling2D((3, 3)),\n",
    "    layers.Conv2D(128, (3, 3), activation='relu'),\n",
    "    layers.Conv2D(256, (3, 3), activation='relu'),\n",
    "    layers.GlobalAveragePooling2D(),\n",
    "    # tf.keras.layers.Flatten(),\n",
    "    tf.keras.layers.Dense(128, activation='relu'),\n",
    "    tf.keras.layers.Dropout(rate=0.2),\n",
    "    tf.keras.layers.Dense(11, activation='sigmoid')\n",
    "])\n",
    "model.summary()\n",
    "model, historytest = compile(model, 20)\n",
    "evaluate(historytest)"
   ]
  }
 ],
 "metadata": {
  "kernelspec": {
   "display_name": "tf_ml2",
   "language": "python",
   "name": "python3"
  },
  "language_info": {
   "codemirror_mode": {
    "name": "ipython",
    "version": 3
   },
   "file_extension": ".py",
   "mimetype": "text/x-python",
   "name": "python",
   "nbconvert_exporter": "python",
   "pygments_lexer": "ipython3",
   "version": "3.9.16"
  },
  "orig_nbformat": 4
 },
 "nbformat": 4,
 "nbformat_minor": 2
}
