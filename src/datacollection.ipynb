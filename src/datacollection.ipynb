{
 "cells": [
  {
   "cell_type": "code",
   "execution_count": 1,
   "metadata": {},
   "outputs": [],
   "source": [
    "import urllib.request\n",
    "import matplotlib.pyplot as plt\n",
    "import numpy as np\n",
    "from time import sleep\n",
    "from PIL import Image\n",
    "from selenium import webdriver\n",
    "from IPython.display import clear_output"
   ]
  },
  {
   "cell_type": "code",
   "execution_count": 2,
   "metadata": {},
   "outputs": [],
   "source": [
    "# Initializations\n",
    "list_num = [i for i in map(int, open(\"../data/images/idxdata.csv\", \"r\").read().split(\",\"))]\n",
    "label_names = [\n",
    "    'Bicycle', 'Bridge', 'Bus', 'Car', 'Chimney',\n",
    "    'Crosswalk', 'Hydrant', 'Motorcycle', 'Other', 'Palm', 'Stair',\n",
    "    'Traffic Light'\n",
    "]\n",
    "\n",
    "def save_progress():\n",
    "    open(\"../data/images/idxdata.csv\", \"w\").write(\",\".join(map(str, list_num)))"
   ]
  },
  {
   "cell_type": "code",
   "execution_count": 3,
   "metadata": {},
   "outputs": [
    {
     "name": "stdout",
     "output_type": "stream",
     "text": [
      "correct iframe found\n"
     ]
    }
   ],
   "source": [
    "# WEB DRIVER FUNCTIONS\n",
    "driver = webdriver.Chrome('../driver/chromedriver.exe')\n",
    "driver.get(\"https://patrickhlauke.github.io/recaptcha/\")\n",
    "driver.fullscreen_window()\n",
    "\n",
    "driver.switch_to.default_content()\n",
    "driver.find_element_by_tag_name(\"iframe\").click()\n",
    "sleep(0.33)\n",
    "\n",
    "# Find the right iframe in case of multiple redundant tags\n",
    "iframes = [i for i in driver.find_elements_by_tag_name(\"iframe\")]\n",
    "correctIFrame = None\n",
    "for i in iframes:\n",
    "    driver.switch_to.frame(i)\n",
    "    buttons = driver.find_elements_by_tag_name(\"button\")\n",
    "    if len(driver.find_elements_by_tag_name(\"button\")) != 0:\n",
    "        print(\"correct iframe found\")\n",
    "        correctIFrame = i\n",
    "    driver.switch_to.default_content()    \n",
    "driver.switch_to.frame(correctIFrame)\n",
    "\n",
    "def reload():\n",
    "    driver.find_element_by_tag_name(\"button\").click()\n",
    "\n",
    "def check_table():\n",
    "    table_elements = []\n",
    "    rows = driver.find_elements_by_tag_name(\"tr\")\n",
    "    for i in rows:\n",
    "        columns = i.find_elements_by_tag_name(\"td\")\n",
    "        for j in columns:\n",
    "            table_elements.append(j)\n",
    "    return table_elements  \n",
    "\n",
    "def img_element_with_id(id):\n",
    "    images = driver.find_elements_by_tag_name(\"img\")\n",
    "    for i in images:\n",
    "        if i.get_attribute(\"class\") == \"rc-image-tile-33\":\n",
    "            return i\n",
    "\n",
    "# Get the correct captcha size and type (3x3)\n",
    "def find_3x3_captcha():\n",
    "    img_element = img_element_with_id(\"rc-image-tile-33\")\n",
    "    while img_element is None:\n",
    "        reload()\n",
    "        sleep(1)\n",
    "        img_element = img_element_with_id(\"rc-image-tile-33\")\n",
    "    return check_table()"
   ]
  },
  {
   "cell_type": "code",
   "execution_count": 4,
   "metadata": {},
   "outputs": [],
   "source": [
    "# IMAGE FUNCTIONS\n",
    "def download_image():\n",
    "    urllib.request.urlretrieve(driver.find_element_by_class_name(\"rc-image-tile-33\").get_attribute(\"src\"), \"../data/solver/captcha.jpeg\")\n",
    "    return Image.open(\"../data/solver/captcha.jpeg\")\n",
    "\n",
    "def show_image(img):\n",
    "    plt.xticks([])\n",
    "    plt.yticks([])\n",
    "    plt.imshow(np.array(img))\n",
    "    plt.show()\n",
    "\n",
    "def process_image(img):\n",
    "    if img.mode == \"RGBA\":\n",
    "        img = img.convert(\"RGB\")\n",
    "    img = img.resize((100, 100))\n",
    "    return img\n",
    "\n",
    "def crop_image(image):\n",
    "    width, height = image.size\n",
    "    grid_width = width // 3\n",
    "    grid_height = height // 3\n",
    "    cropped_images = []\n",
    "    for i in range(3):\n",
    "        for j in range(3):\n",
    "            left = j * grid_width\n",
    "            upper = i * grid_height\n",
    "            right = (j + 1) * grid_width\n",
    "            lower = (i + 1) * grid_height\n",
    "            cropped = image.crop((left, upper, right, lower))\n",
    "            cropped_images.append(process_image(cropped))\n",
    "    return cropped_images"
   ]
  },
  {
   "cell_type": "code",
   "execution_count": 5,
   "metadata": {},
   "outputs": [],
   "source": [
    "def validate_input():\n",
    "    lower_case_labels = [i for i in map(str.lower, label_names)]\n",
    "    print(\"VALID INPUTS: %s\" % \", \".join(lower_case_labels))\n",
    "    user_input = \"\"\n",
    "    while user_input not in lower_case_labels:\n",
    "        user_input = input(\">\")\n",
    "    return lower_case_labels.index(user_input)\n"
   ]
  },
  {
   "cell_type": "code",
   "execution_count": 6,
   "metadata": {},
   "outputs": [],
   "source": [
    "test = download_image()"
   ]
  },
  {
   "cell_type": "code",
   "execution_count": 7,
   "metadata": {},
   "outputs": [
    {
     "data": {
      "text/plain": [
       "[<PIL.Image.Image image mode=RGB size=100x100>,\n",
       " <PIL.Image.Image image mode=RGB size=100x100>,\n",
       " <PIL.Image.Image image mode=RGB size=100x100>,\n",
       " <PIL.Image.Image image mode=RGB size=100x100>,\n",
       " <PIL.Image.Image image mode=RGB size=100x100>,\n",
       " <PIL.Image.Image image mode=RGB size=100x100>,\n",
       " <PIL.Image.Image image mode=RGB size=100x100>,\n",
       " <PIL.Image.Image image mode=RGB size=100x100>,\n",
       " <PIL.Image.Image image mode=RGB size=100x100>]"
      ]
     },
     "execution_count": 7,
     "metadata": {},
     "output_type": "execute_result"
    }
   ],
   "source": [
    "crop_image(test)"
   ]
  },
  {
   "cell_type": "code",
   "execution_count": 8,
   "metadata": {},
   "outputs": [],
   "source": [
    "def main():\n",
    "    while True:\n",
    "        sleep(2)\n",
    "        find_3x3_captcha()\n",
    "        images = crop_image(download_image())\n",
    "        index = 0\n",
    "        for i in images:\n",
    "            clear_output()\n",
    "            sleep(0.2)\n",
    "            show_image(i)\n",
    "            label_index = validate_input()\n",
    "            i.save(\"../data/images/%s/%d.jpeg\" % (label_names[label_index], list_num[label_index]))\n",
    "            list_num[label_index] += 1\n",
    "            index += 1\n",
    "        clear_output()\n",
    "        user_input = input(\"press enter to continue or type exit to quit\")\n",
    "        if user_input == \"exit\":\n",
    "            break\n",
    "    save_progress()\n",
    "    print(\"Progress saved to idxdata.csv\")"
   ]
  },
  {
   "cell_type": "code",
   "execution_count": 9,
   "metadata": {},
   "outputs": [
    {
     "name": "stdout",
     "output_type": "stream",
     "text": [
      "<selenium.webdriver.remote.webelement.WebElement (session=\"a7c549a933d3c62ca28e7d3192d53fe3\", element=\"AFEEA0FDB5E3ADF4CEB74A3116C80BAD_element_6\")>\n"
     ]
    }
   ],
   "source": [
    "print(correctIFrame)"
   ]
  },
  {
   "cell_type": "code",
   "execution_count": 10,
   "metadata": {},
   "outputs": [
    {
     "data": {
      "image/png": "[encoded data removed]",
      "text/plain": [
       "<Figure size 640x480 with 1 Axes>"
      ]
     },
     "metadata": {},
     "output_type": "display_data"
    },
    {
     "name": "stdout",
     "output_type": "stream",
     "text": [
      "VALID INPUTS: bicycle, bridge, bus, car, chimney, crosswalk, hydrant, motorcycle, other, palm, stair, traffic light\n",
      "you chose: Motorcycle\n",
      "Progress saved to idxdata.csv\n"
     ]
    }
   ],
   "source": [
    "main()"
   ]
  }
 ],
 "metadata": {
  "kernelspec": {
   "display_name": "tf_ml2",
   "language": "python",
   "name": "python3"
  },
  "language_info": {
   "codemirror_mode": {
    "name": "ipython",
    "version": 3
   },
   "file_extension": ".py",
   "mimetype": "text/x-python",
   "name": "python",
   "nbconvert_exporter": "python",
   "pygments_lexer": "ipython3",
   "version": "3.9.16"
  },
  "orig_nbformat": 4
 },
 "nbformat": 4,
 "nbformat_minor": 2
}
