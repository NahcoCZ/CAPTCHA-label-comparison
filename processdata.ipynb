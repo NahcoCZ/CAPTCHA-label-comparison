{
 "cells": [
  {
   "cell_type": "code",
   "execution_count": 1,
   "id": "f1e41cf8-e311-485a-9091-9b4d1f38ec45",
   "metadata": {
    "tags": []
   },
   "outputs": [],
   "source": [
    "import numpy as np\n",
    "from os import listdir\n",
    "from PIL import Image\n",
    "import random\n",
    "from tensorflow.keras.utils import to_categorical"
   ]
  },
  {
   "cell_type": "code",
   "execution_count": 2,
   "id": "b31b121d-d275-4200-acfe-7848616a4bfc",
   "metadata": {
    "tags": []
   },
   "outputs": [
    {
     "name": "stdout",
     "output_type": "stream",
     "text": [
      "0 Bicycle\n",
      "1 Bridge\n",
      "2 Bus\n",
      "3 Car\n",
      "4 Chimney\n",
      "5 Crosswalk\n",
      "6 Hydrant\n",
      "7 Motorcycle\n",
      "8 Other\n",
      "9 Palm\n",
      "10 Stair\n",
      "11 Traffic Light\n",
      "['Bicycle', 'Bridge', 'Bus', 'Car', 'Chimney', 'Crosswalk', 'Hydrant', 'Motorcycle', 'Other', 'Palm', 'Stair', 'Traffic Light']\n",
      "[0, 1, 2, 3, 4, 5, 6, 7, 8, 9, 10, 11]\n"
     ]
    }
   ],
   "source": [
    "# Files Testing\n",
    "mainDirectory = \"images\"\n",
    "label_names = sorted(fn for fn in listdir(mainDirectory))\n",
    "label_numcat = [i for i in range(len(label_names))]\n",
    "for i in label_numcat:\n",
    "    print(i, label_names[i])\n",
    "\n",
    "# Print the arrays to use on other ipynb\n",
    "print(label_names)\n",
    "print(label_numcat)"
   ]
  },
  {
   "cell_type": "code",
   "execution_count": 10,
   "id": "5a9331b2-32c0-406a-9272-7e47be653aec",
   "metadata": {
    "tags": []
   },
   "outputs": [],
   "source": [
    "def processImage(path):\n",
    "    randomchance = random.randint(1, 100)\n",
    "    flipped = None\n",
    "    raw = Image.open(path)\n",
    "    if raw.mode == \"RGBA\":\n",
    "        raw = raw.convert(\"RGB\")\n",
    "    raw = raw.resize((100, 100))\n",
    "\n",
    "    if randomchance > 50:\n",
    "        flipped = raw.transpose(Image.FLIP_LEFT_RIGHT)\n",
    "\n",
    "    return np.array(raw), flipped"
   ]
  },
  {
   "cell_type": "code",
   "execution_count": 11,
   "id": "d6f92c82-ec04-4493-8d08-7d4ffff36bb5",
   "metadata": {
    "tags": []
   },
   "outputs": [],
   "source": [
    "# Creating an ndarray for the images and labels\n",
    "dataImg = np.zeros((0, 100, 100, 3), dtype=np.uint8)\n",
    "dataCat = []\n",
    "# Read all the images\n",
    "for index, i in enumerate(label_names):\n",
    "    currentDirectory = \"%s/%s\" % (mainDirectory, i)\n",
    "    for j in listdir(currentDirectory):\n",
    "        img, flipped = processImage(\"%s/%s\" % (currentDirectory, j))\n",
    "        dataImg = np.concatenate((dataImg, [img]))\n",
    "        if flipped != None:\n",
    "            dataImg = np.concatenate((dataImg, [np.array(flipped)]))\n",
    "            dataCat.append(index)\n",
    "        dataCat.append(index)"
   ]
  },
  {
   "cell_type": "code",
   "execution_count": 12,
   "id": "1fcd2297",
   "metadata": {},
   "outputs": [
    {
     "name": "stdout",
     "output_type": "stream",
     "text": [
      "(17628, 100, 100, 3)\n"
     ]
    }
   ],
   "source": [
    "print(dataImg.shape)"
   ]
  },
  {
   "cell_type": "code",
   "execution_count": 6,
   "id": "440f3d75-3f63-46ba-b5b7-cccc5c082b8f",
   "metadata": {
    "tags": []
   },
   "outputs": [],
   "source": [
    "# Change labels into categories and save the ndarrays into files\n",
    "dataCat = to_categorical(dataCat)\n",
    "np.save(\"label_data.npy\", dataCat)\n",
    "np.save(\"image_data.npy\", dataImg)"
   ]
  }
 ],
 "metadata": {
  "kernelspec": {
   "display_name": "tf_ml2",
   "language": "python",
   "name": "python3"
  },
  "language_info": {
   "codemirror_mode": {
    "name": "ipython",
    "version": 3
   },
   "file_extension": ".py",
   "mimetype": "text/x-python",
   "name": "python",
   "nbconvert_exporter": "python",
   "pygments_lexer": "ipython3",
   "version": "3.9.16"
  }
 },
 "nbformat": 4,
 "nbformat_minor": 5
}
