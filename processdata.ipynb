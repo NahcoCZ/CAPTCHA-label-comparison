{
 "cells": [
  {
   "cell_type": "code",
   "execution_count": null,
   "id": "f1e41cf8-e311-485a-9091-9b4d1f38ec45",
   "metadata": {
    "tags": []
   },
   "outputs": [],
   "source": [
    "import tensorflow as tf\n",
    "import matplotlib.pyplot as plt\n",
    "import numpy as np\n",
    "from os import listdir\n",
    "from PIL import Image\n",
    "from tensorflow.keras.utils import to_categorical"
   ]
  },
  {
   "cell_type": "code",
   "execution_count": 46,
   "id": "6c5050d8-a9f1-46d5-9470-969cc9eb3116",
   "metadata": {
    "tags": []
   },
   "outputs": [
    {
     "name": "stdout",
     "output_type": "stream",
     "text": [
      "[[1. 0. 0. 0. 0. 0. 0. 0. 0. 0. 0.]\n",
      " [0. 1. 0. 0. 0. 0. 0. 0. 0. 0. 0.]\n",
      " [0. 0. 1. 0. 0. 0. 0. 0. 0. 0. 0.]\n",
      " [0. 0. 0. 1. 0. 0. 0. 0. 0. 0. 0.]\n",
      " [0. 0. 0. 0. 1. 0. 0. 0. 0. 0. 0.]\n",
      " [0. 0. 0. 0. 0. 1. 0. 0. 0. 0. 0.]\n",
      " [0. 0. 0. 0. 0. 0. 1. 0. 0. 0. 0.]\n",
      " [0. 0. 0. 0. 0. 0. 0. 1. 0. 0. 0.]\n",
      " [0. 0. 0. 0. 0. 0. 0. 0. 1. 0. 0.]\n",
      " [0. 0. 0. 0. 0. 0. 0. 0. 0. 1. 0.]\n",
      " [0. 0. 0. 0. 0. 0. 0. 0. 0. 0. 1.]\n",
      " [0. 1. 0. 0. 0. 0. 0. 0. 0. 0. 0.]\n",
      " [0. 0. 0. 1. 0. 0. 0. 0. 0. 0. 0.]\n",
      " [0. 0. 0. 0. 1. 0. 0. 0. 0. 0. 0.]\n",
      " [0. 1. 0. 0. 0. 0. 0. 0. 0. 0. 0.]\n",
      " [0. 0. 0. 1. 0. 0. 0. 0. 0. 0. 0.]\n",
      " [0. 1. 0. 0. 0. 0. 0. 0. 0. 0. 0.]]\n",
      "tf.Tensor([ 0  1  2  3  4  5  6  7  8  9 10  1  3  4  1  3  1], shape=(17,), dtype=int64)\n"
     ]
    }
   ],
   "source": [
    "# Encoding and Decoding the labels example\n",
    "testingCategories = np.array([0, 1, 2, 3, 4, 5, 6, 7, 8, 9, 10, 1, 3, 4, 1, 3, 1])\n",
    "categories = to_categorical(testingCategories)\n",
    "print(categories)\n",
    "\n",
    "backdecode = tf.argmax(categories, axis=1)\n",
    "print(backdecode)"
   ]
  },
  {
   "cell_type": "code",
   "execution_count": null,
   "id": "b31b121d-d275-4200-acfe-7848616a4bfc",
   "metadata": {
    "tags": []
   },
   "outputs": [],
   "source": [
    "# Files Testing\n",
    "mainDirectory = \"images\"\n",
    "label_names = sorted(fn for fn in listdir(mainDirectory))\n",
    "label_numcat = [i for i in range(len(label_names))]\n",
    "for i in label_numcat:\n",
    "    print(i, label_names[i])\n",
    "\n",
    "# Print the arrays to use on other ipynb\n",
    "print(label_names)\n",
    "print(label_numcat)"
   ]
  },
  {
   "cell_type": "code",
   "execution_count": null,
   "id": "da599ef0-9d28-44f9-a32d-155e44f98d42",
   "metadata": {},
   "outputs": [],
   "source": [
    "# IMAGE PREPARATION"
   ]
  },
  {
   "cell_type": "code",
   "execution_count": 2,
   "id": "5a9331b2-32c0-406a-9272-7e47be653aec",
   "metadata": {
    "tags": []
   },
   "outputs": [],
   "source": [
    "def processImage(path):\n",
    "    raw = Image.open(path)\n",
    "    if raw.mode == \"RGBA\":\n",
    "        raw = raw.convert(\"RGB\")\n",
    "    raw = raw.resize((100, 100))\n",
    "    return np.array(raw)"
   ]
  },
  {
   "cell_type": "code",
   "execution_count": 5,
   "id": "d6f92c82-ec04-4493-8d08-7d4ffff36bb5",
   "metadata": {
    "tags": []
   },
   "outputs": [],
   "source": [
    "# Creating an ndarray for the images and labels\n",
    "dataImg = np.zeros((0, 100, 100, 3), dtype=np.uint8)\n",
    "dataCat = []\n",
    "# Read all the images\n",
    "for index, i in enumerate(label_names):\n",
    "    currentDirectory = \"%s/%s\" % (mainDirectory, i)\n",
    "    for j in listdir(currentDirectory):\n",
    "        img = processImage(\"%s/%s\" % (currentDirectory, j))\n",
    "        dataImg = np.concatenate((dataImg, [img]))\n",
    "        dataCat.append(index)"
   ]
  },
  {
   "cell_type": "code",
   "execution_count": 8,
   "id": "440f3d75-3f63-46ba-b5b7-cccc5c082b8f",
   "metadata": {
    "tags": []
   },
   "outputs": [],
   "source": [
    "# Change labels into categories and save the ndarrays into files\n",
    "dataCat = to_categorical(dataCat)\n",
    "np.save(\"label_data.npy\", dataCat)\n",
    "np.save(\"image_data.npy\", dataImg)"
   ]
  },
  {
   "cell_type": "code",
   "execution_count": 57,
   "id": "78551e3d-ba15-4900-a684-7739e73e6953",
   "metadata": {
    "tags": []
   },
   "outputs": [],
   "source": [
    "def decode(coded):\n",
    "    return np.argmax(coded, axis=1)"
   ]
  },
  {
   "cell_type": "code",
   "execution_count": null,
   "id": "846751fc-8c8d-4510-84f6-a16d6175e6f5",
   "metadata": {
    "tags": []
   },
   "outputs": [],
   "source": [
    "# Displaying the images\n",
    "label_decoded = [label_names[i] for i in decode(dataCat)]\n",
    "for i in range(11730):\n",
    "    plt.xticks([])\n",
    "    plt.yticks([])\n",
    "    plt.xlabel(label_decoded[i])\n",
    "    plt.imshow(dataImg[i])\n",
    "    plt.show()"
   ]
  }
 ],
 "metadata": {
  "kernelspec": {
   "display_name": "conda_tensorflow2_p310",
   "language": "python",
   "name": "conda_tensorflow2_p310"
  },
  "language_info": {
   "codemirror_mode": {
    "name": "ipython",
    "version": 3
   },
   "file_extension": ".py",
   "mimetype": "text/x-python",
   "name": "python",
   "nbconvert_exporter": "python",
   "pygments_lexer": "ipython3",
   "version": "3.10.8"
  }
 },
 "nbformat": 4,
 "nbformat_minor": 5
}
