{
 "cells": [
  {
   "cell_type": "code",
   "execution_count": null,
   "metadata": {},
   "outputs": [],
   "source": [
    "import urllib.request\n",
    "import pyautogui\n",
    "import time\n",
    "from selenium import webdriver\n",
    "from PIL import Image"
   ]
  },
  {
   "cell_type": "code",
   "execution_count": null,
   "metadata": {},
   "outputs": [],
   "source": [
    "driver = webdriver.Chrome('./driver/chromedriver.exe')\n",
    "driver.get(\"https://patrickhlauke.github.io/recaptcha/\")\n",
    "driver.fullscreen_window()"
   ]
  },
  {
   "cell_type": "code",
   "execution_count": null,
   "metadata": {},
   "outputs": [],
   "source": [
    "driver.switch_to.default_content()\n",
    "driver.find_element_by_tag_name(\"iframe\").click()\n",
    "time.sleep(0.33)"
   ]
  },
  {
   "cell_type": "code",
   "execution_count": null,
   "metadata": {},
   "outputs": [],
   "source": [
    "# Find the right iframe in case of multiple redundant tags\n",
    "iframes = [i for i in driver.find_elements_by_tag_name(\"iframe\")]\n",
    "correctIFrame = None\n",
    "for i in iframes:\n",
    "    driver.switch_to.frame(i)\n",
    "    buttons = driver.find_elements_by_tag_name(\"button\")\n",
    "    if len(driver.find_elements_by_tag_name(\"button\")) != 0:\n",
    "        print(\"correct iframe found\")\n",
    "        correctIFrame = i\n",
    "    driver.switch_to.default_content()    "
   ]
  },
  {
   "cell_type": "code",
   "execution_count": null,
   "metadata": {},
   "outputs": [],
   "source": [
    "# Find captcha box coordinates\n",
    "boxX = correctIFrame.location[\"x\"]\n",
    "boxY = 45 + correctIFrame.location[\"y\"]\n",
    "driver.switch_to.frame(correctIFrame)\n",
    "\n",
    "def find_location_of_element(element):\n",
    "    x = boxX + element.size[\"width\"] / 2 + element.location[\"x\"]\n",
    "    y = boxY + element.size[\"height\"] / 2 + element.location[\"y\"]\n",
    "    return x, y"
   ]
  },
  {
   "cell_type": "code",
   "execution_count": null,
   "metadata": {},
   "outputs": [],
   "source": [
    "# Find verify button coordinates\n",
    "verifyX, verifyY = find_location_of_element(driver.find_element_by_id(\"recaptcha-verify-button\"))\n",
    "\n",
    "# Find reload button coordinates\n",
    "reloadX, reloadY = find_location_of_element(driver.find_element_by_id(\"recaptcha-reload-button\"))"
   ]
  },
  {
   "cell_type": "code",
   "execution_count": null,
   "metadata": {},
   "outputs": [],
   "source": [
    "def clickIndex(row, column):\n",
    "    tr_elements = driver.find_elements_by_tag_name(\"tr\")\n",
    "    td_elements = tr_elements[row].find_elements_by_tag_name(\"td\")\n",
    "    td_elements[column].click()\n",
    "\n",
    "def click(x, y):\n",
    "    pyautogui.moveTo(x, y, duration=0.5)\n",
    "    pyautogui.click()\n",
    "\n",
    "def submit():\n",
    "    click(verifyX, verifyY)\n",
    "\n",
    "def reload():\n",
    "    click(reloadX, reloadY)\n",
    "\n",
    "def check_table():\n",
    "    table_elements = []\n",
    "    rows = driver.find_elements_by_tag_name(\"tr\")\n",
    "    for i in rows:\n",
    "        columns = i.find_elements_by_tag_name(\"td\")\n",
    "        for j in columns:\n",
    "            table_elements.append(j)\n",
    "    return table_elements\n",
    "table_elements = check_table()"
   ]
  },
  {
   "cell_type": "code",
   "execution_count": null,
   "metadata": {},
   "outputs": [],
   "source": [
    "# Get the correct captcha size and type (3x3)\n",
    "def find_3x3_captcha():\n",
    "    elements = check_table()\n",
    "    while len(elements) != 9:\n",
    "        reload()\n",
    "        time.sleep(0.5)\n",
    "        elements = check_table()\n",
    "    return elements"
   ]
  },
  {
   "cell_type": "code",
   "execution_count": null,
   "metadata": {},
   "outputs": [],
   "source": [
    "table_coords = None\n",
    "def get_table_coords():\n",
    "    return [find_location_of_element(i) for i in find_3x3_captcha()]\n",
    "\n",
    "\n",
    "# ROW AND COLUMN STARTS FROM 1 INSTEAD OF 0\n",
    "def choose_captcha(row, column):\n",
    "    if table_coords == None:\n",
    "        print(\"Please use assign table_coords to get_table_coords() first.\")\n",
    "        return\n",
    "    element_index = (row - 1) * 3 + (column - 1)\n",
    "    click(table_coords[element_index][0], table_coords[element_index][1])"
   ]
  },
  {
   "cell_type": "code",
   "execution_count": null,
   "metadata": {},
   "outputs": [],
   "source": [
    "# WARNING!! THIS CODE WILL TAKE CONTROL OF YOUR MOUSE\n",
    "# USE ALT F4 ON THE CHROME DRIVER TO FORCE INTERRUPT THE KERNEL\n",
    "for k in range(100):\n",
    "    table_coords = get_table_coords()\n",
    "    for i in range(3):\n",
    "        for j in range(3):\n",
    "            choose_captcha(i + 1, j + 1)\n",
    "    submit()\n",
    "    print(\"submit successful, sleeping for 3 seconds.\")\n",
    "    time.sleep(3)"
   ]
  },
  {
   "cell_type": "code",
   "execution_count": null,
   "metadata": {},
   "outputs": [],
   "source": [
    "# urllib.request.urlretrieve(driver.find_element(By.TAG_NAME, \"img\").get_attribute(\"src\"), \"captcha.jpeg\")"
   ]
  },
  {
   "cell_type": "code",
   "execution_count": null,
   "metadata": {},
   "outputs": [],
   "source": [
    "\n",
    "# cropped_tiles = []\n",
    "\n",
    "# # Iterate over the grid and crop each tile\n",
    "# for i in range(3):\n",
    "#     for j in range(3):\n",
    "#         # Calculate the coordinates for cropping\n",
    "#         left = j * tile_width\n",
    "#         top = i * tile_height\n",
    "#         right = left + tile_width\n",
    "#         bottom = top + tile_height\n",
    "        \n",
    "#         # Crop the tile from the original image\n",
    "#         tile = original_image.crop((left, top, right, bottom))\n",
    "        \n",
    "#         # Add the cropped tile to the list\n",
    "#         cropped_tiles.append(tile)"
   ]
  }
 ],
 "metadata": {
  "kernelspec": {
   "display_name": "tf_ml2",
   "language": "python",
   "name": "python3"
  },
  "language_info": {
   "codemirror_mode": {
    "name": "ipython",
    "version": 3
   },
   "file_extension": ".py",
   "mimetype": "text/x-python",
   "name": "python",
   "nbconvert_exporter": "python",
   "pygments_lexer": "ipython3",
   "version": "3.9.16"
  },
  "orig_nbformat": 4
 },
 "nbformat": 4,
 "nbformat_minor": 2
}
