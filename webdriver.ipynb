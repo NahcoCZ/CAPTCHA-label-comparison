{
 "cells": [
  {
   "cell_type": "code",
   "execution_count": 1,
   "metadata": {},
   "outputs": [],
   "source": [
    "import urllib.request\n",
    "import pyautogui\n",
    "import time\n",
    "import matplotlib.pyplot as plt\n",
    "import numpy as np\n",
    "import tensorflow as tf\n",
    "from selenium import webdriver\n",
    "from PIL import Image"
   ]
  },
  {
   "cell_type": "code",
   "execution_count": 2,
   "metadata": {},
   "outputs": [],
   "source": [
    "driver = webdriver.Chrome('./driver/chromedriver.exe')\n",
    "driver.get(\"https://patrickhlauke.github.io/recaptcha/\")\n",
    "driver.fullscreen_window()"
   ]
  },
  {
   "cell_type": "code",
   "execution_count": 3,
   "metadata": {},
   "outputs": [],
   "source": [
    "driver.switch_to.default_content()\n",
    "driver.find_element_by_tag_name(\"iframe\").click()\n",
    "time.sleep(0.33)"
   ]
  },
  {
   "cell_type": "code",
   "execution_count": 4,
   "metadata": {},
   "outputs": [
    {
     "name": "stdout",
     "output_type": "stream",
     "text": [
      "correct iframe found\n"
     ]
    }
   ],
   "source": [
    "# Find the right iframe in case of multiple redundant tags\n",
    "iframes = [i for i in driver.find_elements_by_tag_name(\"iframe\")]\n",
    "correctIFrame = None\n",
    "for i in iframes:\n",
    "    driver.switch_to.frame(i)\n",
    "    buttons = driver.find_elements_by_tag_name(\"button\")\n",
    "    if len(driver.find_elements_by_tag_name(\"button\")) != 0:\n",
    "        print(\"correct iframe found\")\n",
    "        correctIFrame = i\n",
    "    driver.switch_to.default_content()"
   ]
  },
  {
   "cell_type": "code",
   "execution_count": 5,
   "metadata": {},
   "outputs": [],
   "source": [
    "# Find captcha box coordinates\n",
    "boxX = correctIFrame.location[\"x\"]\n",
    "boxY = 45 + correctIFrame.location[\"y\"]\n",
    "driver.switch_to.frame(correctIFrame)\n",
    "\n",
    "def find_location_of_element(element):\n",
    "    x = boxX + element.size[\"width\"] / 2 + element.location[\"x\"]\n",
    "    y = boxY + element.size[\"height\"] / 2 + element.location[\"y\"]\n",
    "    return x, y\n",
    "\n",
    "# Find verify button coordinates\n",
    "verifyX, verifyY = find_location_of_element(driver.find_element_by_id(\"recaptcha-verify-button\"))\n",
    "\n",
    "# Find reload button coordinates\n",
    "reloadX, reloadY = find_location_of_element(driver.find_element_by_id(\"recaptcha-reload-button\"))"
   ]
  },
  {
   "cell_type": "code",
   "execution_count": 6,
   "metadata": {},
   "outputs": [],
   "source": [
    "def clickIndex(row, column):\n",
    "    tr_elements = driver.find_elements_by_tag_name(\"tr\")\n",
    "    td_elements = tr_elements[row].find_elements_by_tag_name(\"td\")\n",
    "    td_elements[column].click()\n",
    "\n",
    "def click(x, y):\n",
    "    pyautogui.moveTo(x, y, duration=0.5)\n",
    "    pyautogui.click()\n",
    "\n",
    "def submit():\n",
    "    click(verifyX, verifyY)\n",
    "\n",
    "def reload():\n",
    "    click(reloadX, reloadY)\n",
    "\n",
    "def check_table():\n",
    "    table_elements = []\n",
    "    rows = driver.find_elements_by_tag_name(\"tr\")\n",
    "    for i in rows:\n",
    "        columns = i.find_elements_by_tag_name(\"td\")\n",
    "        for j in columns:\n",
    "            table_elements.append(j)\n",
    "    return table_elements   \n",
    "\n",
    "def show_image(img):\n",
    "    plt.xticks([])\n",
    "    plt.yticks([])\n",
    "    plt.imshow(np.array(img))\n",
    "    plt.show()\n",
    "\n",
    "def show_image_label(img, label):\n",
    "    plt.xlabel(label)\n",
    "    show_image(img)"
   ]
  },
  {
   "cell_type": "code",
   "execution_count": 7,
   "metadata": {},
   "outputs": [],
   "source": [
    "def img_element_with_id(id):\n",
    "    images = driver.find_elements_by_tag_name(\"img\")\n",
    "    for i in images:\n",
    "        if i.get_attribute(\"class\") == \"rc-image-tile-33\":\n",
    "            return i\n",
    "\n",
    "# Get the correct captcha size and type (3x3)\n",
    "def find_3x3_captcha():\n",
    "    img_element = img_element_with_id(\"rc-image-tile-33\")\n",
    "    while img_element is None:\n",
    "        reload()\n",
    "        time.sleep(1)\n",
    "        img_element = img_element_with_id(\"rc-image-tile-33\")\n",
    "        \n",
    "    return check_table()"
   ]
  },
  {
   "cell_type": "code",
   "execution_count": 8,
   "metadata": {},
   "outputs": [],
   "source": [
    "tile_updated = False\n",
    "\n",
    "def get_table_coords():\n",
    "    global table_elements\n",
    "    global table_coords\n",
    "    table_elements = find_3x3_captcha()\n",
    "    table_coords = [find_location_of_element(i) for i in table_elements]\n",
    "\n",
    "def choose_captcha_by_index(index):\n",
    "    click(table_coords[index][0], table_coords[index][1])\n",
    "\n",
    "# ROW AND COLUMN STARTS FROM 1 INSTEAD OF 0\n",
    "def choose_captcha(row, column):\n",
    "    element_index = (row - 1) * 3 + (column - 1)\n",
    "    choose_captcha_by_index(element_index)    "
   ]
  },
  {
   "cell_type": "code",
   "execution_count": 9,
   "metadata": {},
   "outputs": [],
   "source": [
    "# Process image to the right resolution\n",
    "def process_image(img):\n",
    "    if img.mode == \"RGBA\":\n",
    "        img = img.convert(\"RGB\")\n",
    "    img = img.resize((100, 100))\n",
    "    return np.array(img)\n",
    "\n",
    "# CROP IMAGE FUNCTION\n",
    "def crop_image_and_convert(image):\n",
    "    width, height = image.size\n",
    "    grid_width = width // 3\n",
    "    grid_height = height // 3\n",
    "    cropped_images = np.zeros((0, 100, 100, 3), dtype=np.uint8)\n",
    "    for i in range(3):\n",
    "        for j in range(3):\n",
    "            left = j * grid_width\n",
    "            upper = i * grid_height\n",
    "            right = (j + 1) * grid_width\n",
    "            lower = (i + 1) * grid_height\n",
    "            cropped = image.crop((left, upper, right, lower))\n",
    "            cropped_images = np.concatenate((cropped_images, [process_image(cropped)]))\n",
    "    return cropped_images"
   ]
  },
  {
   "cell_type": "code",
   "execution_count": 10,
   "metadata": {},
   "outputs": [],
   "source": [
    "# Load model and categories\n",
    "loaded_model = tf.keras.models.load_model(\"data/model_test.h5\")\n",
    "\n",
    "label_names = [\n",
    "    'Bicycle', 'Bridge', 'Bus', 'Car', 'Chimney',\n",
    "    'Crosswalk', 'Hydrant', 'Motorcycle', 'Other', 'Palm', 'Stair',\n",
    "    'Traffic Light'\n",
    "]\n",
    "\n",
    "captcha_label = [\n",
    "    [\"bicycles\", \"bicycle\", \"bike\"],\n",
    "    [\"bridges\", \"bridge\"],\n",
    "    [\"buses\", \"bus\"],\n",
    "    [\"cars\", \"car\"],\n",
    "    [\"chimney\"],\n",
    "    [\"crosswalks\", \"crosswalk\"],\n",
    "    [\"a fire hydrant\", \"fire hydrants\"],\n",
    "    [\"motorcycles\"],\n",
    "    [\"UNDEFINED?\"],\n",
    "    [\"tree\", \"palm tree\"],\n",
    "    [\"stairs\"],\n",
    "    [\"traffic lights\"]\n",
    "]\n",
    "\n",
    "def decode(label):\n",
    "    return np.argmax(label)\n",
    "\n",
    "def decode_to_string(label):\n",
    "    return label_names[decode(label)]"
   ]
  },
  {
   "cell_type": "code",
   "execution_count": 11,
   "metadata": {},
   "outputs": [],
   "source": [
    "# Download image and convert to numpy\n",
    "def predict_current():\n",
    "    urllib.request.urlretrieve(driver.find_element_by_class_name(\"rc-image-tile-33\").get_attribute(\"src\"), \"data/captcha.jpeg\")\n",
    "    global to_predict \n",
    "    to_predict = crop_image_and_convert(Image.open(\"data/captcha.jpeg\"))\n"
   ]
  },
  {
   "cell_type": "code",
   "execution_count": 23,
   "metadata": {},
   "outputs": [],
   "source": [
    "# Prepare and check label to predict\n",
    "def get_label_index():\n",
    "    label = driver.find_element_by_tag_name(\"strong\").text\n",
    "    for i in captcha_label:\n",
    "        if label in i:\n",
    "            index = captcha_label.index(i)\n",
    "            print(\"Find the\", label_names[index])\n",
    "            return index\n",
    "        \n",
    "def check_warnings():\n",
    "    class_names = [\n",
    "        \"rc-imageselect-incorrect-response\",\n",
    "        \"rc-imageselect-error-select-more\",\n",
    "        \"rc-imageselect-error-dynamic-more\",\n",
    "        \"rc-imageselect-error-select-something\"\n",
    "    ]\n",
    "    return [driver.find_element_by_class_name(i).is_displayed() for i in class_names]\n",
    "\n",
    "def check_tile_update(index):\n",
    "    global to_predict\n",
    "    get_table_coords()\n",
    "    img_element = table_elements[index].find_element_by_tag_name(\"img\")\n",
    "    if img_element.get_attribute(\"class\") == \"rc-image-tile-11\":\n",
    "        file_path = \"data/captcha-tile-%d.jpeg\" % (index)\n",
    "        urllib.request.urlretrieve(img_element.get_attribute(\"src\"), file_path)\n",
    "        to_predict[index] = np.array(Image.open(file_path))\n",
    "        return True\n",
    "    return False"
   ]
  },
  {
   "cell_type": "code",
   "execution_count": 13,
   "metadata": {},
   "outputs": [],
   "source": [
    "def print_grid():\n",
    "    for i in range(9):\n",
    "        plt.subplot(3, 3, i+1)\n",
    "        plt.xticks([])\n",
    "        plt.yticks([])\n",
    "        plt.grid(False)\n",
    "        plt.imshow(to_predict[i])\n",
    "    plt.show()"
   ]
  },
  {
   "cell_type": "code",
   "execution_count": 16,
   "metadata": {},
   "outputs": [],
   "source": [
    "# Code to print predicted images:\n",
    "# for i in range(len(to_predict)):\n",
    "#     show_image_label(to_predict[i], decode(predicted[i]))"
   ]
  },
  {
   "cell_type": "code",
   "execution_count": 17,
   "metadata": {},
   "outputs": [],
   "source": [
    "# CAPTCHA INTERACTION DEMO\n",
    "# WARNING!! THIS CODE WILL TAKE CONTROL OF YOUR MOUSE\n",
    "# USE ALT F4 ON THE CHROME DRIVER TO FORCE INTERRUPT THE KERNEL\n",
    "# for k in range(100):\n",
    "#     table_coords = get_table_coords()\n",
    "#     for i in range(3):\n",
    "#         for j in range(3):\n",
    "#             choose_captcha(i + 1, j + 1)\n",
    "#     submit()\n",
    "#     print(\"submit successful, sleeping for 3 seconds.\")\n",
    "#     time.sleep(3)"
   ]
  }
 ],
 "metadata": {
  "kernelspec": {
   "display_name": "tf_ml2",
   "language": "python",
   "name": "python3"
  },
  "language_info": {
   "codemirror_mode": {
    "name": "ipython",
    "version": 3
   },
   "file_extension": ".py",
   "mimetype": "text/x-python",
   "name": "python",
   "nbconvert_exporter": "python",
   "pygments_lexer": "ipython3",
   "version": "3.9.16"
  },
  "orig_nbformat": 4
 },
 "nbformat": 4,
 "nbformat_minor": 2
}
